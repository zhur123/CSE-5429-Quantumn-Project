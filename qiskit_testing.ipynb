{
 "cells": [
  {
   "cell_type": "code",
   "execution_count": 33,
   "metadata": {},
   "outputs": [],
   "source": [
    "import matplotlib.pyplot as plt\n",
    "import numpy as np\n",
    "from qiskit import QuantumCircuit\n",
    "from qiskit_algorithms.optimizers import COBYLA\n",
    "from qiskit.circuit import ParameterVector\n",
    "from qiskit.circuit.library import ZFeatureMap\n",
    "from qiskit_machine_learning.algorithms.classifiers import NeuralNetworkClassifier, VQC\n",
    "from qiskit_machine_learning.circuit.library import RawFeatureVector, QNNCircuit\n",
    "from qiskit_machine_learning.neural_networks import EstimatorQNN, SamplerQNN\n",
    "from qiskit.quantum_info import SparsePauliOp\n",
    "import time\n",
    "\n",
    "from prepare_data import load_data"
   ]
  },
  {
   "cell_type": "code",
   "execution_count": 2,
   "metadata": {},
   "outputs": [
    {
     "data": {
      "image/png": "[encoded data removed]",
      "text/plain": [
       "<Figure size 454.719x367.889 with 1 Axes>"
      ]
     },
     "execution_count": 2,
     "metadata": {},
     "output_type": "execute_result"
    }
   ],
   "source": [
    "# pytorch quantum demo\n",
    "def conv_circuit_pytorch_quantum(params):\n",
    "    target = QuantumCircuit(4)\n",
    "    target.rx(params[0], 0)\n",
    "    target.ry(params[1], 1)\n",
    "    target.rz(params[2], 3)\n",
    "    target.crx(params[3], 0, 2)\n",
    "    target.h(3)\n",
    "    target.sx(2)\n",
    "    target.cx(3, 0)\n",
    "    return target\n",
    "\n",
    "params = ParameterVector(\"θ\", length=4)\n",
    "circuit = conv_circuit_pytorch_quantum(params)\n",
    "circuit.draw(\"mpl\", style=\"clifford\")"
   ]
  },
  {
   "cell_type": "code",
   "execution_count": 23,
   "metadata": {},
   "outputs": [],
   "source": [
    "# Qiskit demo\n",
    "def conv_circuit_qiskit(params):\n",
    "    target = QuantumCircuit(2)\n",
    "    target.rz(-np.pi / 2, 1)\n",
    "    target.cx(1, 0)\n",
    "    target.rz(params[0], 0)\n",
    "    target.ry(params[1], 1)\n",
    "    target.cx(0, 1)\n",
    "    target.ry(params[2], 1)\n",
    "    target.cx(1, 0)\n",
    "    target.rz(np.pi / 2, 0)\n",
    "    return target\n",
    "\n",
    "def conv_layer(num_qubits, param_prefix):\n",
    "    qc = QuantumCircuit(num_qubits, name=\"Convolutional Layer\")\n",
    "    qubits = list(range(num_qubits))\n",
    "    param_index = 0\n",
    "    params = ParameterVector(param_prefix, length=num_qubits * 3)\n",
    "    for q1, q2 in zip(qubits[0::2], qubits[1::2]):\n",
    "        qc = qc.compose(conv_circuit_qiskit(params[param_index : (param_index + 3)]), [q1, q2])\n",
    "        qc.barrier()\n",
    "        param_index += 3\n",
    "    for q1, q2 in zip(qubits[1::2], qubits[2::2] + [0]):\n",
    "        qc = qc.compose(conv_circuit_qiskit(params[param_index : (param_index + 3)]), [q1, q2])\n",
    "        qc.barrier()\n",
    "        param_index += 3\n",
    "\n",
    "    qc_inst = qc.to_instruction()\n",
    "\n",
    "    qc = QuantumCircuit(num_qubits)\n",
    "    qc.append(qc_inst, qubits)\n",
    "    return qc\n",
    "\n",
    "def pool_circuit(params):\n",
    "    target = QuantumCircuit(2)\n",
    "    target.rz(-np.pi / 2, 1)\n",
    "    target.cx(1, 0)\n",
    "    target.rz(params[0], 0)\n",
    "    target.ry(params[1], 1)\n",
    "    target.cx(0, 1)\n",
    "    target.ry(params[2], 1)\n",
    "\n",
    "    return target\n",
    "\n",
    "def pool_layer(sources, sinks, param_prefix):\n",
    "    num_qubits = len(sources) + len(sinks)\n",
    "    qc = QuantumCircuit(num_qubits, name=\"Pooling Layer\")\n",
    "    param_index = 0\n",
    "    params = ParameterVector(param_prefix, length=num_qubits // 2 * 3)\n",
    "    for source, sink in zip(sources, sinks):\n",
    "        qc = qc.compose(pool_circuit(params[param_index : (param_index + 3)]), [source, sink])\n",
    "        qc.barrier()\n",
    "        param_index += 3\n",
    "\n",
    "    qc_inst = qc.to_instruction()\n",
    "\n",
    "    qc = QuantumCircuit(num_qubits)\n",
    "    qc.append(qc_inst, range(num_qubits))\n",
    "    return qc\n",
    "\n",
    "def create_circuits_qiskit(num_qubits, keep_pooling=True):\n",
    "    feature_map = ZFeatureMap(num_qubits)\n",
    "    qubit_list = list(range(num_qubits))\n",
    "\n",
    "    ansatz = QuantumCircuit(num_qubits, name=\"Ansatz\")\n",
    "    ansatz.compose(conv_layer(num_qubits, \"c1\"), qubit_list, inplace=True)\n",
    "    if keep_pooling:\n",
    "        add_pooling_layers(ansatz, num_qubits)\n",
    "    else:\n",
    "        ansatz.compose(pool_layer(list(range(0, num_qubits//2)), list(range(num_qubits//2, num_qubits)), \"p1\"), qubit_list, inplace=True)\n",
    "\n",
    "    circuit = QuantumCircuit(num_qubits)\n",
    "    circuit.compose(feature_map, range(num_qubits), inplace=True)\n",
    "    circuit.compose(ansatz, range(num_qubits), inplace=True)\n",
    "\n",
    "    circuit.draw(\"mpl\", style=\"clifford\")\n",
    "\n",
    "    return feature_map, ansatz\n",
    "\n",
    "def add_pooling_layers(ansatz, num_qubits):\n",
    "    qubit_count = num_qubits\n",
    "    count = 1\n",
    "    while qubit_count > 2 and qubit_count % 2 == 0:\n",
    "        first_half = list(range(0, qubit_count//2))\n",
    "        second_half = list(range(qubit_count//2, qubit_count))\n",
    "        qubit_list = list(range(qubit_count))\n",
    "        ansatz.compose(pool_layer(first_half, second_half, f\"p{count}\"), qubit_list, inplace=True)\n",
    "        count += 1\n",
    "        if qubit_count % 2 == 0:\n",
    "            qubit_count = qubit_count // 2\n",
    "        else:\n",
    "            break"
   ]
  },
  {
   "cell_type": "code",
   "execution_count": 4,
   "metadata": {},
   "outputs": [
    {
     "data": {
      "image/png": "[encoded data removed]",
      "text/plain": [
       "<Figure size 705.35x200.667 with 1 Axes>"
      ]
     },
     "execution_count": 4,
     "metadata": {},
     "output_type": "execute_result"
    }
   ],
   "source": [
    "# Convolution Circuit\n",
    "params = ParameterVector(\"θ\", length=3)\n",
    "circuit = conv_circuit_qiskit(params)\n",
    "circuit.draw(\"mpl\", style=\"clifford\")"
   ]
  },
  {
   "cell_type": "code",
   "execution_count": null,
   "metadata": {},
   "outputs": [],
   "source": [
    "# Fully Connected Layer\n",
    "circuit = conv_layer(10, \"θ\")\n",
    "circuit.decompose().draw(\"mpl\", style=\"clifford\")"
   ]
  },
  {
   "cell_type": "code",
   "execution_count": 6,
   "metadata": {},
   "outputs": [
    {
     "data": {
      "image/png": "[encoded data removed]",
      "text/plain": [
       "<Figure size 538.128x200.667 with 1 Axes>"
      ]
     },
     "execution_count": 6,
     "metadata": {},
     "output_type": "execute_result"
    }
   ],
   "source": [
    "# Pooling Circuit\n",
    "params = ParameterVector(\"θ\", length=3)\n",
    "circuit = pool_circuit(params)\n",
    "circuit.draw(\"mpl\", style=\"clifford\")"
   ]
  },
  {
   "cell_type": "code",
   "execution_count": 17,
   "metadata": {},
   "outputs": [
    {
     "data": {
      "image/png": "[encoded data removed]",
      "text/plain": [
       "<Figure size 1123.61x367.889 with 1 Axes>"
      ]
     },
     "execution_count": 17,
     "metadata": {},
     "output_type": "execute_result"
    }
   ],
   "source": [
    "# Pooling Layer\n",
    "sources = [0, 1]\n",
    "sinks = [2, 3]\n",
    "circuit = pool_layer(sources, sinks, \"θ\")\n",
    "circuit.decompose().draw(\"mpl\", style=\"clifford\")"
   ]
  },
  {
   "cell_type": "code",
   "execution_count": 8,
   "metadata": {},
   "outputs": [],
   "source": [
    "num_qubits = 16\n",
    "\n",
    "def callback_method(weights, obj_func_eval):\n",
    "    objective_func_vals.append(obj_func_eval)"
   ]
  },
  {
   "cell_type": "code",
   "execution_count": 27,
   "metadata": {},
   "outputs": [
    {
     "name": "stdout",
     "output_type": "stream",
     "text": [
      "Train Shape:  (52, 4, 4, 1) (52,)\n",
      "Number of 3: 29. Number of 6: 23\n",
      "Test Shape:  (40, 4, 4, 1) (40,)\n",
      "Number of 3: 18. Number of 6: 22\n",
      "\n",
      "Train time: 385.88s\n",
      "Training Accuracy: 0.5576923076923077\n",
      "Testing Accuracy: 0.45\n",
      "Objective Function Values: [0.5377930650888637, 0.5335810550266463, 0.4690299879145626, 0.44922282676799663, 0.44922282676799674, 0.4492228267679966, 0.44922282676799646, 0.44922282676799663, 0.44922282676799646, 0.44922282676799663, 0.4087385443207827, 0.3875332477342267, 0.39977949999944085, 0.40192094550643837, 0.9388366789243336, 0.6346761110206453, 0.3875332477342267, 0.3875332477342266, 0.3875332477342266, 0.38753324773422665, 0.3875332477342264, 0.38753324773422676, 0.3847886647317569, 0.40752382923497205, 0.3877519031836709, 0.384788664731757, 0.38478866473175716, 0.3847886647317571, 0.38478866473175716, 0.38478866473175716, 0.38478866473175705, 0.3847886647317571, 0.38478866473175705, 0.3847886647317571, 0.4070782625435078, 0.3275067143456483, 0.18777402346453756, 0.18777402346453723, 0.18777402346453734, 0.18777402346453742, 0.18777402346453737, 0.18777402346453753, 0.18777402346453748, 0.18777402346453725, 0.18777402346453728, 0.18777402346453753, 0.19106368533342566, 0.20410145187062453, 0.2021557291038201, 0.1877740234645375]\n"
     ]
    }
   ],
   "source": [
    "# Binary labels with EstimatorQNN, single convolution layer + single pooling layer, default max iterations 200\n",
    "feature_map, ansatz = create_circuits_qiskit(num_qubits, keep_pooling=True)\n",
    "observable = SparsePauliOp.from_list([(\"Z\" + \"I\" * (num_qubits-1), 1)])\n",
    "\n",
    "circuit = QuantumCircuit(num_qubits)\n",
    "circuit.compose(feature_map, range(num_qubits), inplace=True)\n",
    "circuit.compose(ansatz, range(num_qubits), inplace=True)\n",
    "\n",
    "qnn = EstimatorQNN(\n",
    "    circuit=circuit.decompose(),\n",
    "    observables=observable,\n",
    "    input_params=feature_map.parameters,\n",
    "    weight_params=ansatz.parameters,\n",
    ")\n",
    "classifier = NeuralNetworkClassifier(\n",
    "    qnn,\n",
    "    optimizer=COBYLA(maxiter=50),\n",
    "    callback=callback_method\n",
    ")\n",
    "\n",
    "digit1, digit2 = 3, 6\n",
    "(train_images, train_labels), (test_images, test_labels) = load_data(digits=[digit1, digit2], final_shape=(4, 4), threshold=0.5)\n",
    "print(\"Train Shape: \", train_images.shape, train_labels.shape)\n",
    "print(f\"Number of {digit1}: {np.sum(train_labels)}. Number of {digit2}: {train_labels.shape[0] - np.sum(train_labels)}\")\n",
    "print(\"Test Shape: \", test_images.shape, test_labels.shape)\n",
    "print(f\"Number of {digit1}: {np.sum(test_labels)}. Number of {digit2}: {test_labels.shape[0] - np.sum(test_labels)}\\n\")\n",
    "\n",
    "objective_func_vals = []\n",
    "x = np.array([np.ravel(image) for image in train_images])\n",
    "y = np.asarray(train_labels)\n",
    "x_test = np.array([np.ravel(image) for image in test_images])\n",
    "y_test = np.asarray(test_labels)\n",
    "\n",
    "start = time.time()\n",
    "\n",
    "classifier.fit(x, y)\n",
    "\n",
    "print(f\"Train time: {time.time()-start :.2f}s\")\n",
    "print(f\"Training Accuracy: {classifier.score(x, y)}\")\n",
    "print(f\"Testing Accuracy: {classifier.score(x_test, y_test)}\")\n",
    "print(f\"Objective Function Values: {objective_func_vals}\")\n",
    "\n",
    "# circuit.draw(\"mpl\", style=\"clifford\")"
   ]
  },
  {
   "cell_type": "code",
   "execution_count": null,
   "metadata": {},
   "outputs": [],
   "source": [
    "\"\"\"\n",
    "Single Epoch 8sec\n",
    "50 Epoch around \n",
    "\n",
    "Single convolution + 1 pooling layer, threshold 0.5\n",
    "    Data\n",
    "        Train Shape:  (52, 4, 4, 1) (52,)\n",
    "        Number of 3: 29. Number of 6: 23\n",
    "        Test Shape:  (40, 4, 4, 1) (40,)\n",
    "        Number of 3: 18. Number of 6: 22\n",
    "    maxiter: 50\n",
    "    Train time: 379.36s\n",
    "    Training Accuracy: 0.5576923076923077\n",
    "    Testing Accuracy: 0.45\n",
    "    {OBJECTIVE FUNCTION VALUES}\n",
    "\n",
    "Single convolution + 1 pooling layer, no threshold\n",
    "    Data\n",
    "        Train Shape:  (9895, 4, 4, 1) (9895,)\n",
    "        Number of 3: 4613. Number of 6: 5282\n",
    "        Test Shape:  (1749, 4, 4, 1) (1749,)\n",
    "        Number of 3: 850. Number of 6: 899\n",
    "    maxiter: 50\n",
    "    too long to train\n",
    "\n",
    "Single convolution + n pooling layer until binary, threshold 0.5\n",
    "    Data\n",
    "        Train Shape:  (52, 4, 4, 1) (52,)\n",
    "        Number of 3: 29. Number of 6: 23\n",
    "        Test Shape:  (40, 4, 4, 1) (40,)\n",
    "        Number of 3: 18. Number of 6: 22\n",
    "    maxiter: 50\n",
    "    Train time: 385.88s\n",
    "    Training Accuracy: 0.5576923076923077\n",
    "    Testing Accuracy: 0.45\n",
    "    Objective Function Values: [0.5377930650888637, 0.5335810550266463, 0.4690299879145626, 0.44922282676799663, 0.44922282676799674, 0.4492228267679966, 0.44922282676799646, 0.44922282676799663, 0.44922282676799646, 0.44922282676799663, 0.4087385443207827, 0.3875332477342267, 0.39977949999944085, 0.40192094550643837, 0.9388366789243336, 0.6346761110206453, 0.3875332477342267, 0.3875332477342266, 0.3875332477342266, 0.38753324773422665, 0.3875332477342264, 0.38753324773422676, 0.3847886647317569, 0.40752382923497205, 0.3877519031836709, 0.384788664731757, 0.38478866473175716, 0.3847886647317571, 0.38478866473175716, 0.38478866473175716, 0.38478866473175705, 0.3847886647317571, 0.38478866473175705, 0.3847886647317571, 0.4070782625435078, 0.3275067143456483, 0.18777402346453756, 0.18777402346453723, 0.18777402346453734, 0.18777402346453742, 0.18777402346453737, 0.18777402346453753, 0.18777402346453748, 0.18777402346453725, 0.18777402346453728, 0.18777402346453753, 0.19106368533342566, 0.20410145187062453, 0.2021557291038201, 0.1877740234645375]\n",
    "\n",
    "Sampler QNN\n",
    "    Data\n",
    "        Train Shape:  (75, 4, 4, 1) (75,)\n",
    "        Test Shape:  (48, 4, 4, 1) (48,)\n",
    "    maxiter: 1\n",
    "    Train Shape:  (75, 4, 4, 1) (75,)\n",
    "    Test Shape:  (48, 4, 4, 1) (48,)\n",
    "    Train time: 105.50s\n",
    "    Training Accuracy: 0.06666666666666667\n",
    "    Testing Accuracy: 0.041666666666666664\n",
    "    Objective Function Values: [22.37305138178695]\n",
    "\n",
    "VQC\n",
    "    Data\n",
    "        Train Shape:  (75, 4, 4, 1) (75,)\n",
    "        Test Shape:  (48, 4, 4, 1) (48,)\n",
    "    maxiter: 1\n",
    "    Train time: 104.94s\n",
    "    Training Accuracy: 0.08\n",
    "    Testing Accuracy: 0.0625\n",
    "    Objective Function Values: [3.3280033814973713]\n",
    "\"\"\""
   ]
  },
  {
   "cell_type": "code",
   "execution_count": 30,
   "metadata": {},
   "outputs": [
    {
     "name": "stdout",
     "output_type": "stream",
     "text": [
      "Train Shape:  (75, 4, 4, 1) (75,)\n",
      "Test Shape:  (48, 4, 4, 1) (48,)\n",
      "Train time: 105.50s\n",
      "Training Accuracy: 0.06666666666666667\n",
      "Testing Accuracy: 0.041666666666666664\n",
      "Objective Function Values: [22.37305138178695]\n"
     ]
    }
   ],
   "source": [
    "# Multiple labels with SamplerQNN, default max iterations 30\n",
    "output_shape = 10  # corresponds to the number of classes, possible outcomes of the (parity) mapping.\n",
    "def parity(x):\n",
    "    return \"{:b}\".format(x).count(\"1\") % 2\n",
    "\n",
    "feature_map, ansatz = create_circuits_qiskit(num_qubits)\n",
    "\n",
    "circuit = QuantumCircuit(num_qubits)\n",
    "circuit.compose(feature_map, range(num_qubits), inplace=True)\n",
    "circuit.compose(ansatz, range(num_qubits), inplace=True)\n",
    "\n",
    "qnn = SamplerQNN(\n",
    "    circuit=circuit.decompose(),\n",
    "    input_params=feature_map.parameters,\n",
    "    weight_params=ansatz.parameters,\n",
    "    interpret=parity,\n",
    "    output_shape=output_shape\n",
    ")\n",
    "\n",
    "classifier = NeuralNetworkClassifier(\n",
    "    qnn,\n",
    "    optimizer=COBYLA(maxiter=1),\n",
    "    callback=callback_method\n",
    ")\n",
    "\n",
    "(train_images, train_labels), (test_images, test_labels) = load_data(final_shape=(4, 4))\n",
    "print(\"Train Shape: \", train_images.shape, train_labels.shape)\n",
    "print(\"Test Shape: \", test_images.shape, test_labels.shape)\n",
    "\n",
    "objective_func_vals = []\n",
    "x = np.array([np.ravel(image) for image in train_images])\n",
    "y = np.asarray(train_labels)\n",
    "x_test = np.array([np.ravel(image) for image in test_images])\n",
    "y_test = np.asarray(test_labels)\n",
    "\n",
    "start = time.time()\n",
    "\n",
    "classifier.fit(x, y)\n",
    "\n",
    "print(f\"Train time: {time.time()-start :.2f}s\")\n",
    "print(f\"Training Accuracy: {classifier.score(x, y)}\")\n",
    "print(f\"Testing Accuracy: {classifier.score(x_test, y_test)}\")\n",
    "print(f\"Objective Function Values: {objective_func_vals}\")"
   ]
  },
  {
   "cell_type": "code",
   "execution_count": 31,
   "metadata": {},
   "outputs": [
    {
     "name": "stdout",
     "output_type": "stream",
     "text": [
      "[0 1 1 0 1 0 0 1 0 0 1 0 0 1 0 0 1 1 0 0 1 1 0 1 1 0 0 1 0 0 1 1 1 1 0 1 0\n",
      " 0 1 0 1 0 1 0 1 0 0 1]\n",
      "[6 8 2 2 6 2 2 4 8 2 2 4 2 6 6 0 0 6 7 6 6 7 4 8 6 5 0 0 4 3 2 4 9 6 3 7 6\n",
      " 3 8 6 3 3 6 2 3 8 6 3]\n"
     ]
    }
   ],
   "source": [
    "print(classifier.predict(x_test))\n",
    "print(y_test)"
   ]
  },
  {
   "cell_type": "code",
   "execution_count": 34,
   "metadata": {},
   "outputs": [
    {
     "name": "stdout",
     "output_type": "stream",
     "text": [
      "Train Shape:  (75, 4, 4, 1) (75,)\n",
      "Test Shape:  (48, 4, 4, 1) (48,)\n",
      "Train time: 104.94s\n",
      "Training Accuracy: 0.08\n",
      "Testing Accuracy: 0.0625\n",
      "Objective Function Values: [3.3280033814973713]\n"
     ]
    }
   ],
   "source": [
    "# Multiple labels with VQC, default max iterations 30\n",
    "feature_map, ansatz = create_circuits_qiskit(num_qubits)\n",
    "\n",
    "vqc = VQC(\n",
    "    feature_map=feature_map,\n",
    "    ansatz=ansatz,\n",
    "    loss=\"cross_entropy\",\n",
    "    optimizer=COBYLA(maxiter=1),\n",
    "    callback=callback_method,\n",
    ")\n",
    "\n",
    "(train_images, train_labels), (test_images, test_labels) = load_data(final_shape=(4, 4))\n",
    "print(\"Train Shape: \", train_images.shape, train_labels.shape)\n",
    "print(\"Test Shape: \", test_images.shape, test_labels.shape)\n",
    "\n",
    "objective_func_vals = []\n",
    "x = np.array([np.ravel(image) for image in train_images])\n",
    "y = np.asarray(train_labels)\n",
    "x_test = np.array([np.ravel(image) for image in test_images])\n",
    "y_test = np.asarray(test_labels)\n",
    "\n",
    "start = time.time()\n",
    "\n",
    "vqc.fit(x, y)\n",
    "\n",
    "print(f\"Train time: {time.time()-start :.2f}s\")\n",
    "print(f\"Training Accuracy: {vqc.score(x, y)}\")\n",
    "print(f\"Testing Accuracy: {vqc.score(x_test, y_test)}\")\n",
    "print(f\"Objective Function Values: {objective_func_vals}\")"
   ]
  },
  {
   "cell_type": "code",
   "execution_count": 35,
   "metadata": {},
   "outputs": [
    {
     "name": "stdout",
     "output_type": "stream",
     "text": [
      "[5 9 0 6 0 7 2 9 7 1 0 8 0 7 7 8 1 2 9 9 7 7 9 4 3 0 4 0 7 4 7 8 5 2 7 5 8\n",
      " 0 6 7 0 6 7 5 0 0 9 7]\n",
      "[6 8 2 2 6 2 2 4 8 2 2 4 2 6 6 0 0 6 7 6 6 7 4 8 6 5 0 0 4 3 2 4 9 6 3 7 6\n",
      " 3 8 6 3 3 6 2 3 8 6 3]\n"
     ]
    }
   ],
   "source": [
    "print(vqc.predict(x_test))\n",
    "print(y_test)"
   ]
  }
 ],
 "metadata": {
  "kernelspec": {
   "display_name": "quantum",
   "language": "python",
   "name": "python3"
  },
  "language_info": {
   "codemirror_mode": {
    "name": "ipython",
    "version": 3
   },
   "file_extension": ".py",
   "mimetype": "text/x-python",
   "name": "python",
   "nbconvert_exporter": "python",
   "pygments_lexer": "ipython3",
   "version": "3.9.19"
  }
 },
 "nbformat": 4,
 "nbformat_minor": 2
}
